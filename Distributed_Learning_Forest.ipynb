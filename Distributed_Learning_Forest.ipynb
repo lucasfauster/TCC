{
 "cells": [
  {
   "cell_type": "markdown",
   "id": "indian-volume",
   "metadata": {},
   "source": [
    "## Importando dependências"
   ]
  },
  {
   "cell_type": "code",
   "execution_count": 1,
   "id": "aggregate-sperm",
   "metadata": {},
   "outputs": [],
   "source": [
    "# pip install tensorflow sklearn"
   ]
  },
  {
   "cell_type": "code",
   "execution_count": 2,
   "id": "brief-identification",
   "metadata": {},
   "outputs": [
    {
     "name": "stdout",
     "output_type": "stream",
     "text": [
      "INFO:tensorflow:Enabling eager execution\n",
      "INFO:tensorflow:Enabling v2 tensorshape\n",
      "INFO:tensorflow:Enabling resource variables\n",
      "INFO:tensorflow:Enabling tensor equality\n",
      "INFO:tensorflow:Enabling control flow v2\n"
     ]
    }
   ],
   "source": [
    "import numpy as np\n",
    "import sys\n",
    "import pandas as pd\n",
    "import tensorflow as tf\n",
    "import matplotlib.pyplot as plt\n",
    "from tensorflow.keras.metrics import Precision, Recall, Accuracy\n",
    "from tensorflow.keras.losses import Loss\n",
    "from sklearn.tree import DecisionTreeClassifier\n",
    "from sklearn.preprocessing import Binarizer\n",
    "from sklearn.impute import SimpleImputer\n",
    "from sklearn.model_selection import train_test_split\n",
    "from sklearn.metrics import confusion_matrix\n",
    "from sklearn.utils import shuffle\n",
    "from sklearn.model_selection import GridSearchCV\n",
    "from imblearn.over_sampling import RandomOverSampler, SMOTE"
   ]
  },
  {
   "cell_type": "markdown",
   "id": "friendly-copper",
   "metadata": {},
   "source": [
    "## Importando dataset e splitando em teste e treino"
   ]
  },
  {
   "cell_type": "code",
   "execution_count": 3,
   "id": "thrown-brazilian",
   "metadata": {},
   "outputs": [],
   "source": [
    "def normalize_dataset_labels(dataset):\n",
    "    y = dataset.iloc[:, -1].values\n",
    "    unique_labels = sorted(list(set(y)))\n",
    "    for i in range(len(y)):\n",
    "        y[i] = unique_labels.index(y[i])\n",
    "    dataset.iloc[:, -1] = y\n",
    "    \n",
    "def binarize_dataset_labels(dataset):\n",
    "    y = dataset.iloc[:, -1].values\n",
    "    binarizer = Binarizer()\n",
    "    y = binarizer.fit_transform([y])[0]\n",
    "    dataset.iloc[:, -1] = y\n",
    "    \n",
    "\n",
    "HEADER = [\"timestamp\",'srcip', 'srcport', 'dstip', 'dstport', 'proto', 'total_fpackets', 'total_fvolume',\n",
    "          'total_bpackets', 'total_bvolume', 'min_fpktl', 'mean_fpktl', 'max_fpktl', 'std_fpktl', 'min_bpktl',\n",
    "          'mean_bpktl', 'max_bpktl', 'std_bpktl', 'min_fiat', 'mean_fiat', 'max_fiat', 'std_fiat', 'min_biat',\n",
    "          'mean_biat', 'max_biat', 'std_biat', 'duration', 'min_active', 'mean_active', 'max_active', 'std_active',\n",
    "          'min_idle', 'mean_idle', 'max_idle', 'std_idle', 'sflow_fpackets', 'sflow_fbytes', 'sflow_bpackets',\n",
    "          'sflow_bbytes', 'fpsh_cnt', 'bpsh_cnt', 'furg_cnt', 'burg_cnt', 'total_fhlen', 'total_bhlen', \"dscp\", 'class']\n",
    "initial_dataset_02_24 = pd.read_csv('dataset-oi-2017-02-24.csv', names=HEADER)\n",
    "initial_dataset_02_26 = pd.read_csv('dataset-oi-2017-02-26.csv', names=HEADER)\n",
    "\n",
    "initial_dataset_02_24 = initial_dataset_02_24.replace([np.inf, -np.inf], np.nan).dropna()\n",
    "initial_dataset_02_26 = initial_dataset_02_26.replace([np.inf, -np.inf], np.nan).dropna()\n",
    "\n",
    "initial_dataset = initial_dataset_02_24.append(initial_dataset_02_26, ignore_index=True)\n",
    "\n",
    "binarize_dataset_labels(initial_dataset)"
   ]
  },
  {
   "cell_type": "markdown",
   "id": "facial-expert",
   "metadata": {},
   "source": [
    "## Criando modelo do cliente"
   ]
  },
  {
   "cell_type": "code",
   "execution_count": 42,
   "id": "compatible-marketplace",
   "metadata": {},
   "outputs": [],
   "source": [
    "class Client:\n",
    "    def __init__(self, client_id = 123, dataset = [1.0, 2.0]):\n",
    "        self.client_id = client_id\n",
    "        self.local_dataset = pd.DataFrame(dataset)\n",
    "        self.local_tree = DecisionTreeClassifier(random_state=0, max_depth=20, criterion='entropy')\n",
    "        self.metrics_history = list()\n",
    "        self.local_forest = [self.local_tree]\n",
    "        \n",
    "    def apply_oversample(self, X, y):\n",
    "        labels_counts = self.local_dataset['class'].value_counts()\n",
    "        target_label = labels_counts.keys()[1]\n",
    "        max_samples = int(labels_counts.values[0] * 0.6)\n",
    "        current_samples = labels_counts.values[1]\n",
    "        \n",
    "        if current_samples >= max_samples:\n",
    "            return X, y\n",
    "        \n",
    "        smote_oversample = SMOTE(sampling_strategy={target_label: max_samples}, random_state=0)\n",
    "        return smote_oversample.fit_resample(X, y)\n",
    "\n",
    "        \n",
    "    def preprocess(self):\n",
    "        X = self.local_dataset.iloc[:, 5:-1].values\n",
    "        y = self.local_dataset.iloc[:, -1].values\n",
    "        \n",
    "        X = np.array(X, dtype=np.float64)\n",
    "        y = np.array(y, dtype=np.float64)\n",
    "\n",
    "        X, y = self.apply_oversample(X, y)\n",
    "                \n",
    "        self.X_train, self.X_test, self.y_train, self.y_test = train_test_split(X, y, test_size = 0.2, random_state = 0)\n",
    "        \n",
    "    def train_tree(self):\n",
    "        # depth 35 é o melhor aplicando grid seach\n",
    "        self.local_tree.fit(self.X_train, self.y_train)\n",
    "        \n",
    "    def test_tree(self):\n",
    "        y_pred = self.local_tree.predict(self.X_test)\n",
    "        \n",
    "        precision = Precision()\n",
    "        precision.update_state(self.y_test, y_pred)\n",
    "        self.local_tree_prec = precision.result().numpy()\n",
    "        \n",
    "        self.local_tree_acc = self.local_tree.score(self.X_test, self.y_test)\n",
    "        print(f\"[INFO] Accuracy of client {self.client_id} tree = {self.local_tree_acc}\")\n",
    "        \n",
    "        cm = confusion_matrix(self.y_test, y_pred)\n",
    "        print(cm)  "
   ]
  },
  {
   "cell_type": "markdown",
   "id": "built-atmosphere",
   "metadata": {},
   "source": [
    "## Splitando dataset para os clientes da rede"
   ]
  },
  {
   "cell_type": "code",
   "execution_count": 43,
   "id": "eleven-jones",
   "metadata": {},
   "outputs": [
    {
     "name": "stdout",
     "output_type": "stream",
     "text": [
      "values counts for client 0 = 0.0    287944\n",
      "1.0     37973\n",
      "Name: class, dtype: int64\n",
      "values counts for client 1 = 0.0    221592\n",
      "1.0     90218\n",
      "Name: class, dtype: int64\n",
      "values counts for client 2 = 0.0    201866\n",
      "1.0        58\n",
      "Name: class, dtype: int64\n",
      "values counts for client 3 = 1.0    90924\n",
      "0.0    65471\n",
      "Name: class, dtype: int64\n",
      "values counts for client 4 = 0.0    88587\n",
      "1.0     6795\n",
      "Name: class, dtype: int64\n",
      "values counts for client 5 = 0.0    69581\n",
      "1.0     8601\n",
      "Name: class, dtype: int64\n",
      "values counts for client 6 = 1.0    36894\n",
      "0.0    36007\n",
      "Name: class, dtype: int64\n",
      "values counts for client 7 = 0.0    45865\n",
      "1.0    24756\n",
      "Name: class, dtype: int64\n",
      "values counts for client 8 = 0.0    64374\n",
      "1.0       15\n",
      "Name: class, dtype: int64\n",
      "values counts for client 9 = 0.0    62041\n",
      "1.0      506\n",
      "Name: class, dtype: int64\n",
      "values counts for client 10 = 1.0    27116\n",
      "0.0    26281\n",
      "Name: class, dtype: int64\n",
      "values counts for client 11 = 0.0    51254\n",
      "1.0       14\n",
      "Name: class, dtype: int64\n",
      "values counts for client 12 = 1.0    26947\n",
      "0.0    24079\n",
      "Name: class, dtype: int64\n",
      "values counts for client 13 = 0.0    36905\n",
      "1.0    14041\n",
      "Name: class, dtype: int64\n",
      "values counts for client 14 = 0.0    50585\n",
      "1.0       60\n",
      "Name: class, dtype: int64\n",
      "values counts for client 15 = 0.0    44678\n",
      "1.0       16\n",
      "Name: class, dtype: int64\n",
      "values counts for client 16 = 0.0    28245\n",
      "1.0    15485\n",
      "Name: class, dtype: int64\n",
      "values counts for client 17 = 0.0    41487\n",
      "1.0     1653\n",
      "Name: class, dtype: int64\n",
      "values counts for client 18 = 0.0    37965\n",
      "1.0     3892\n",
      "Name: class, dtype: int64\n",
      "values counts for client 19 = 0.0    31075\n",
      "1.0     6751\n",
      "Name: class, dtype: int64\n"
     ]
    }
   ],
   "source": [
    "num_clients = 20\n",
    "max_num_trees = 10\n",
    "clients = [Client(client_id = i) for i in range(num_clients)]\n",
    "\n",
    "# pega os N primeiros clientes com mais dados e que possuem dataset com > 1 classe\n",
    "unique_ips = initial_dataset['srcip'].value_counts().head(num_clients + 10).keys()\n",
    "client_index, srcip = (0,0)\n",
    "while client_index < num_clients:\n",
    "    local_dataset = initial_dataset.loc[initial_dataset['srcip'] == unique_ips[srcip]]\n",
    "    num_classes = len(local_dataset['class'].value_counts())\n",
    "    if num_classes > 1:\n",
    "        print(f\"values counts for client {client_index} = {local_dataset['class'].value_counts()}\")\n",
    "        clients[client_index].local_dataset = local_dataset\n",
    "        client_index += 1\n",
    "    srcip += 1\n",
    "        "
   ]
  },
  {
   "cell_type": "markdown",
   "id": "offensive-breach",
   "metadata": {},
   "source": [
    "## Treinando e testando modelos DT locais"
   ]
  },
  {
   "cell_type": "code",
   "execution_count": 44,
   "id": "adaptive-shepherd",
   "metadata": {},
   "outputs": [
    {
     "name": "stdout",
     "output_type": "stream",
     "text": [
      "[INFO] Accuracy of client 0 tree = 0.8677367541403486\n",
      "[[54330  3253]\n",
      " [ 8934 25625]]\n",
      "[INFO] Accuracy of client 1 tree = 0.8231702157664645\n",
      "[[38440  5866]\n",
      " [ 6673 19931]]\n",
      "[INFO] Accuracy of client 2 tree = 0.9778317878539251\n",
      "[[40428    35]\n",
      " [ 1397 22737]]\n",
      "[INFO] Accuracy of client 3 tree = 0.8703603056363695\n",
      "[[10598  2432]\n",
      " [ 1623 16626]]\n",
      "[INFO] Accuracy of client 4 tree = 0.9979892761394102\n",
      "[[17667    25]\n",
      " [   32 10624]]\n",
      "[INFO] Accuracy of client 5 tree = 0.856552591394952\n",
      "[[11248  2567]\n",
      " [  627  7824]]\n",
      "[INFO] Accuracy of client 6 tree = 0.8559083739112544\n",
      "[[5732 1430]\n",
      " [ 671 6748]]\n",
      "[INFO] Accuracy of client 7 tree = 0.943176398446549\n",
      "[[8458  713]\n",
      " [ 121 5385]]\n",
      "[INFO] Accuracy of client 8 tree = 0.9995145631067961\n",
      "[[12831     6]\n",
      " [    4  7759]]\n",
      "[INFO] Accuracy of client 9 tree = 0.9907318793129501\n",
      "[[12390    34]\n",
      " [  150  7279]]\n",
      "[INFO] Accuracy of client 10 tree = 0.8533707865168539\n",
      "[[4315  920]\n",
      " [ 646 4799]]\n",
      "[INFO] Accuracy of client 11 tree = 0.9991464455554201\n",
      "[[10195     8]\n",
      " [    6  6193]]\n",
      "[INFO] Accuracy of client 12 tree = 0.8473446991965511\n",
      "[[3866  986]\n",
      " [ 572 4782]]\n",
      "[INFO] Accuracy of client 13 tree = 0.8633361558001693\n",
      "[[6444  984]\n",
      " [ 630 3752]]\n",
      "[INFO] Accuracy of client 14 tree = 0.9983938720039536\n",
      "[[10050    24]\n",
      " [    2  6112]]\n",
      "[INFO] Accuracy of client 15 tree = 0.9993704973071273\n",
      "[[8818    3]\n",
      " [   6 5470]]\n",
      "[INFO] Accuracy of client 16 tree = 0.7719880517756389\n",
      "[[4501 1129]\n",
      " [ 932 2477]]\n",
      "[INFO] Accuracy of client 17 tree = 0.9481771617957216\n",
      "[[7590  670]\n",
      " [  18 4998]]\n",
      "[INFO] Accuracy of client 18 tree = 0.9963783027409663\n",
      "[[7498   32]\n",
      " [  12 4607]]\n",
      "[INFO] Accuracy of client 19 tree = 0.9806918744971842\n",
      "[[6109   78]\n",
      " [ 114 3643]]\n",
      "[INFO] All local trains are finished!\n"
     ]
    }
   ],
   "source": [
    "for client in clients:\n",
    "    client.preprocess()\n",
    "    client.train_tree()\n",
    "    client.test_tree()\n",
    "\n",
    "print(\"[INFO] All local trains are finished!\")"
   ]
  },
  {
   "cell_type": "markdown",
   "id": "cleared-architect",
   "metadata": {},
   "source": [
    "## Compartilhando DTs e atualizando FedForest"
   ]
  },
  {
   "cell_type": "code",
   "execution_count": 45,
   "id": "native-audio",
   "metadata": {},
   "outputs": [
    {
     "name": "stdout",
     "output_type": "stream",
     "text": [
      "Client 0 appended 10 and replaced 7 trees to forest\n",
      "[0.6594495452670878, 0.6056847040437585, 0.614942154500662, 0.612771591673721, 0.6950793340713247, 0.6423455101907924, 0.6821970436934297, 0.6162661978250961, 0.6172429510972195, 0.6246771287794926]\n",
      "\n",
      "Client 1 appended 10 and replaced 7 trees to forest\n",
      "[0.6560146664786349, 0.7059088986038641, 0.6879706670427302, 0.705725567620928, 0.7263714567761952, 0.7041602030743196, 0.7561838950782682, 0.6548441686645043, 0.6306585813002398, 0.6971231138062333]\n",
      "\n",
      "Client 2 appended 10 and replaced 8 trees to forest\n",
      "[0.7451584438905832, 0.6872919795036921, 0.6571048191092466, 0.757573881139991, 0.7481616793349536, 0.6818118488474697, 0.7218137065188786, 0.7355604749446569, 0.7284548818056567, 0.6461135966066536]\n",
      "\n",
      "Client 3 appended 10 and replaced 7 trees to forest\n",
      "[0.5324339013395569, 0.7054893059241024, 0.7857668084018031, 0.8038939863806388, 0.6119121455289491, 0.7934077176380319, 0.7497042744333259, 0.4376098980146424, 0.43418907254068223, 0.8121103615844496]\n",
      "\n",
      "Client 4 appended 10 and replaced 6 trees to forest\n",
      "[0.7431212078453506, 0.6637152532806547, 0.6252292930718216, 0.6207845350642021, 0.6095315366163397, 0.6251234655002117, 0.6235360519260618, 0.6233243967828418, 0.625158741357415, 0.6481938761111895]\n",
      "\n",
      "Client 5 appended 10 and replaced 6 trees to forest\n",
      "[0.7155304051019492, 0.7884218090361987, 0.6930297314290847, 0.6205425312135094, 0.701787478667026, 0.6867421180274859, 0.6827000808407437, 0.6186562471930297, 0.7281056319051469, 0.7285996586724154]\n",
      "\n",
      "Client 6 appended 10 and replaced 8 trees to forest\n",
      "[0.585213634181469, 0.6723818668129757, 0.6924765105273987, 0.7813593032027981, 0.8030999245593581, 0.6275289760647418, 0.520060352513545, 0.7063301556820519, 0.522666483780262, 0.8134558672244702]\n",
      "\n",
      "Client 7 appended 10 and replaced 5 trees to forest\n",
      "[0.8611432854125503, 0.6906724807521973, 0.6238332084213395, 0.6200177147918512, 0.6215166587177217, 0.6429106765687811, 0.6303740546433195, 0.6347346187913061, 0.6243101451250256, 0.6330312734209989]\n",
      "\n",
      "Client 8 appended 10 and replaced 7 trees to forest\n",
      "[0.6224271844660194, 0.8307766990291262, 0.6952912621359223, 0.7546601941747573, 0.6448543689320388, 0.7092718446601942, 0.6484951456310679, 0.6251941747572816, 0.6446116504854369, 0.6633980582524271]\n",
      "\n",
      "Client 9 appended 10 and replaced 8 trees to forest\n",
      "[0.6428247620007052, 0.6341610839671586, 0.6494232609681156, 0.6495743716314915, 0.6416158766936987, 0.8325693849796001, 0.7156601017478467, 0.6269077721251196, 0.6493225205258651, 0.6383921825416814]\n",
      "\n",
      "Client 10 appended 10 and replaced 7 trees to forest\n",
      "[0.6030898876404495, 0.6729400749063671, 0.7237827715355806, 0.7886704119850187, 0.8220973782771536, 0.6221910112359551, 0.8305243445692884, 0.7049625468164794, 0.5172284644194757, 0.5279026217228464]\n",
      "\n",
      "Client 11 appended 10 and replaced 3 trees to forest\n",
      "[0.7203389830508474, 0.6839409828069748, 0.6777831971710767, 0.6822338739178149, 0.7640531642482624, 0.6828435556639434, 0.7193634922570418, 0.7202780148762346, 0.7739909767101573, 0.6936958907450311]\n",
      "\n",
      "Client 12 appended 10 and replaced 6 trees to forest\n",
      "[0.5906329610033314, 0.6774446404076033, 0.7541642171271801, 0.8106016068979032, 0.8403880070546738, 0.6200274348422496, 0.8264746227709191, 0.5077405447775818, 0.7244757985498727, 0.5124436605918088]\n",
      "\n",
      "Client 13 appended 10 and replaced 6 trees to forest\n",
      "[0.7226079593564776, 0.7574089754445386, 0.7441151566469094, 0.6420829805249788, 0.6932260795935647, 0.6949195596951736, 0.6613886536833192, 0.6298899237933955, 0.631922099915326, 0.7303979678238781]\n",
      "\n",
      "Client 14 appended 10 and replaced 5 trees to forest\n",
      "[0.7006424511984186, 0.710093896713615, 0.7311588831233012, 0.6769829503335805, 0.6612923152952804, 0.6487521620953793, 0.645972325179145, 0.6783419817148505, 0.645972325179145, 0.6594390906844576]\n",
      "\n",
      "Client 15 appended 10 and replaced 4 trees to forest\n",
      "[0.7346995873260125, 0.7289641183465062, 0.7110582639714625, 0.701056165629153, 0.7994684199482409, 0.7060222424284816, 0.6921032384416311, 0.6544729663565783, 0.6742673288102399, 0.6567811428971113]\n",
      "\n",
      "Client 16 appended 10 and replaced 5 trees to forest\n",
      "[0.662683925212966, 0.7432238079433565, 0.6908950105100121, 0.6796105763911937, 0.6775085739572961, 0.7344839030866246, 0.6623520300918243, 0.6786148910277685, 0.6235203009182432, 0.7202124128775307]\n",
      "\n",
      "Client 17 appended 10 and replaced 4 trees to forest\n",
      "[0.69026815305815, 0.6223260018077734, 0.6224013257005122, 0.6467309430551371, 0.6262428442301898, 0.6224013257005122, 0.7633323290147634, 0.7888671286532088, 0.6221753540222958, 0.6222506779150346]\n",
      "\n",
      "Client 18 appended 10 and replaced 5 trees to forest\n",
      "[0.6373364062885835, 0.883776442505556, 0.6197217878014651, 0.8461601777924109, 0.6989875709934974, 0.9311054407770187, 0.821631409992592, 0.887809696271298, 0.9126677092764837, 0.8534035723104783]\n",
      "\n",
      "Client 19 appended 10 and replaced 5 trees to forest\n",
      "[0.6219831053901851, 0.6182622687047465, 0.6366653258246179, 0.7813757039420757, 0.6211786001609011, 0.6688455349959774, 0.6238938053097345, 0.628218020917136, 0.6170555108608206, 0.627815768302494]\n",
      "\n"
     ]
    }
   ],
   "source": [
    "import random\n",
    "for current in range(num_clients):\n",
    "    clients[current].local_forest = [clients[current].local_tree]\n",
    "    appended_trees, replaced_trees, acc_list = (0,0,[])\n",
    "    for neighbour in range(num_clients):\n",
    "        if current != neighbour:\n",
    "            neighbour_tree = clients[neighbour].local_tree\n",
    "            acc = neighbour_tree.score(clients[current].X_test, clients[current].y_test)\n",
    "            \n",
    "            if len(clients[current].local_forest) <= max_num_trees:\n",
    "                clients[current].local_forest.append(neighbour_tree)\n",
    "                acc_list.append(acc)\n",
    "                appended_trees += 1\n",
    "            else:\n",
    "                min_acc = min(acc_list)\n",
    "                min_index = acc_list.index(min_acc) # seleciona a árvore de menor acurácia\n",
    "#                 min_index = random.randint(0,max_num_trees-1) # seleciona uma árvore aleatória\n",
    "                if min_acc < acc:\n",
    "                    clients[current].local_forest[min_index] = neighbour_tree # substitui a árvore pela nova\n",
    "                    acc_list[min_index] = acc\n",
    "                    replaced_trees += 1\n",
    "    print(f\"Client {current} appended {appended_trees} and replaced {replaced_trees} trees to forest\")\n",
    "    print(f\"{acc_list}\\n\")\n",
    "                "
   ]
  },
  {
   "cell_type": "markdown",
   "id": "ready-energy",
   "metadata": {},
   "source": [
    "## Testando a RF dos clientes"
   ]
  },
  {
   "cell_type": "code",
   "execution_count": 46,
   "id": "exotic-kitchen",
   "metadata": {},
   "outputs": [
    {
     "name": "stdout",
     "output_type": "stream",
     "text": [
      "[INFO] Accuracy of client 0 forest = 0.7751188278198242\n",
      "[INFO] Accuracy of client 1 forest = 0.7419545650482178\n",
      "[INFO] Accuracy of client 2 forest = 0.6380017399787903\n",
      "[INFO] Accuracy of client 3 forest = 0.6301352381706238\n",
      "[INFO] Accuracy of client 4 forest = 0.6241357326507568\n",
      "[INFO] Accuracy of client 5 forest = 0.6983292698860168\n",
      "[INFO] Accuracy of client 6 forest = 0.5834990739822388\n",
      "[INFO] Accuracy of client 7 forest = 0.6247870922088623\n",
      "[INFO] Accuracy of client 8 forest = 0.6634466052055359\n",
      "[INFO] Accuracy of client 9 forest = 0.6270084977149963\n",
      "[INFO] Accuracy of client 10 forest = 0.5705992579460144\n",
      "[INFO] Accuracy of client 11 forest = 0.7428972125053406\n",
      "[INFO] Accuracy of client 12 forest = 0.5430139303207397\n",
      "[INFO] Accuracy of client 13 forest = 0.7055038213729858\n",
      "[INFO] Accuracy of client 14 forest = 0.6303434371948242\n",
      "[INFO] Accuracy of client 15 forest = 0.6802825927734375\n",
      "[INFO] Accuracy of client 16 forest = 0.6879079341888428\n",
      "[INFO] Accuracy of client 17 forest = 0.6221753358840942\n",
      "[INFO] Accuracy of client 18 forest = 0.9322577714920044\n",
      "[INFO] Accuracy of client 19 forest = 0.6223853826522827\n"
     ]
    }
   ],
   "source": [
    "import statistics\n",
    "from statistics import mode\n",
    "\n",
    "def forest_predict(forest, X):\n",
    "    forest_prediction = list()\n",
    "    for row in X:\n",
    "        tree_predictions = list()\n",
    "        for tree in forest:\n",
    "            tree_predictions.append(tree.predict([row])[0])\n",
    "        forest_prediction.append(mode(tree_predictions))\n",
    "    return forest_prediction\n",
    "\n",
    "for client in clients:\n",
    "    accuracy = Accuracy()\n",
    "    forest_pred = forest_predict(client.local_forest, client.X_test)\n",
    "    accuracy.update_state(client.y_test, forest_pred)\n",
    "    acc = accuracy.result().numpy()\n",
    "    client.local_forest_acc = acc\n",
    "    \n",
    "    print(f\"[INFO] Accuracy of client {client.client_id} forest = {acc}\")"
   ]
  },
  {
   "cell_type": "markdown",
   "id": "convinced-description",
   "metadata": {},
   "source": [
    "## Plotando resultados dos treinos locais"
   ]
  },
  {
   "cell_type": "code",
   "execution_count": 47,
   "id": "turkish-education",
   "metadata": {},
   "outputs": [
    {
     "data": {
      "image/png": "[encoded data removed]",
      "text/plain": [
       "<Figure size 432x288 with 1 Axes>"
      ]
     },
     "metadata": {
      "needs_background": "light"
     },
     "output_type": "display_data"
    }
   ],
   "source": [
    "final_metrics = [[], [], []]\n",
    "for client in clients:\n",
    "    final_metrics[0].append(client.local_tree_acc)\n",
    "    final_metrics[1].append(client.local_tree_prec)\n",
    "    final_metrics[2].append(client.local_forest_acc)\n",
    "\n",
    "plt.boxplot(final_metrics)\n",
    "plt.title('Final metrics result')\n",
    "plt.xticks([1, 2, 3], ['tree accuracy', 'tree precision', 'forest accuracy'])\n",
    "plt.show()"
   ]
  }
 ],
 "metadata": {
  "kernelspec": {
   "display_name": "Python 3",
   "language": "python",
   "name": "python3"
  },
  "language_info": {
   "codemirror_mode": {
    "name": "ipython",
    "version": 3
   },
   "file_extension": ".py",
   "mimetype": "text/x-python",
   "name": "python",
   "nbconvert_exporter": "python",
   "pygments_lexer": "ipython3",
   "version": "3.9.2"
  }
 },
 "nbformat": 4,
 "nbformat_minor": 5
}
