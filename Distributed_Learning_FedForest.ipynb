{
 "cells": [
  {
   "cell_type": "markdown",
   "id": "indian-volume",
   "metadata": {},
   "source": [
    "## Importando dependências"
   ]
  },
  {
   "cell_type": "code",
   "execution_count": 1,
   "id": "aggregate-sperm",
   "metadata": {},
   "outputs": [],
   "source": [
    "# pip install tensorflow sklearn"
   ]
  },
  {
   "cell_type": "code",
   "execution_count": 2,
   "id": "brief-identification",
   "metadata": {},
   "outputs": [
    {
     "name": "stdout",
     "output_type": "stream",
     "text": [
      "INFO:tensorflow:Enabling eager execution\n",
      "INFO:tensorflow:Enabling v2 tensorshape\n",
      "INFO:tensorflow:Enabling resource variables\n",
      "INFO:tensorflow:Enabling tensor equality\n",
      "INFO:tensorflow:Enabling control flow v2\n"
     ]
    }
   ],
   "source": [
    "import numpy as np\n",
    "import pandas as pd\n",
    "import tensorflow as tf\n",
    "import matplotlib.pyplot as plt\n",
    "from tensorflow.keras.metrics import Precision\n",
    "from tensorflow.keras.metrics import Recall\n",
    "from tensorflow.keras.metrics import Accuracy\n",
    "from tensorflow.keras.losses import Loss\n",
    "from sklearn.tree import DecisionTreeClassifier\n",
    "from sklearn.preprocessing import StandardScaler\n",
    "from sklearn.impute import SimpleImputer\n",
    "from sklearn.model_selection import train_test_split\n",
    "from sklearn.metrics import confusion_matrix\n",
    "from sklearn.utils import shuffle\n",
    "from sklearn.model_selection import GridSearchCV\n",
    "from imblearn.over_sampling import RandomOverSampler"
   ]
  },
  {
   "cell_type": "markdown",
   "id": "friendly-copper",
   "metadata": {},
   "source": [
    "## Importando dataset e splitando em teste e treino"
   ]
  },
  {
   "cell_type": "code",
   "execution_count": 3,
   "id": "thrown-brazilian",
   "metadata": {},
   "outputs": [],
   "source": [
    "def normalize_dataset_labels(dataset):\n",
    "    y = dataset.iloc[:, -1].values\n",
    "    unique_labels = sorted(list(set(y)))\n",
    "    for i in range(len(y)):\n",
    "        y[i] = unique_labels.index(y[i])\n",
    "\n",
    "    dataset.iloc[:, -1] = y\n",
    "\n",
    "HEADER = [\"timestamp\",'srcip', 'srcport', 'dstip', 'dstport', 'proto', 'total_fpackets', 'total_fvolume',\n",
    "          'total_bpackets', 'total_bvolume', 'min_fpktl', 'mean_fpktl', 'max_fpktl', 'std_fpktl', 'min_bpktl',\n",
    "          'mean_bpktl', 'max_bpktl', 'std_bpktl', 'min_fiat', 'mean_fiat', 'max_fiat', 'std_fiat', 'min_biat',\n",
    "          'mean_biat', 'max_biat', 'std_biat', 'duration', 'min_active', 'mean_active', 'max_active', 'std_active',\n",
    "          'min_idle', 'mean_idle', 'max_idle', 'std_idle', 'sflow_fpackets', 'sflow_fbytes', 'sflow_bpackets',\n",
    "          'sflow_bbytes', 'fpsh_cnt', 'bpsh_cnt', 'furg_cnt', 'burg_cnt', 'total_fhlen', 'total_bhlen', \"dscp\", 'class']\n",
    "initial_dataset = pd.read_csv('dataset-oi-2017-02-24.csv', names=HEADER)\n",
    "\n",
    "# initial_dataset = balance_dataset_labels(initial_dataset)\n",
    "\n",
    "normalize_dataset_labels(initial_dataset)"
   ]
  },
  {
   "cell_type": "markdown",
   "id": "facial-expert",
   "metadata": {},
   "source": [
    "## Criando modelo do cliente"
   ]
  },
  {
   "cell_type": "code",
   "execution_count": 100,
   "id": "compatible-marketplace",
   "metadata": {},
   "outputs": [],
   "source": [
    "class Client:\n",
    "    def __init__(self, client_id = 123, dataset = [1.0, 2.0]):\n",
    "        self.client_id = client_id\n",
    "        self.local_dataset = pd.DataFrame(dataset)\n",
    "        self.local_tree = DecisionTreeClassifier(random_state=0, max_depth=35, criterion='entropy')\n",
    "        self.metrics_history = list()\n",
    "        self.local_forest = [self.local_tree]\n",
    "        \n",
    "        \n",
    "    def preprocess(self):\n",
    "        X = self.local_dataset.iloc[:, 5:-1].values\n",
    "        y = self.local_dataset.iloc[:, -1].values\n",
    "        \n",
    "        X = np.array(X, dtype=np.float64)\n",
    "        y = np.array(y, dtype=np.float64)\n",
    "        \n",
    "        sc = StandardScaler()\n",
    "        X = sc.fit_transform(X)\n",
    "        \n",
    "#         oversample = RandomOverSampler()\n",
    "#         X, y = oversample.fit_resample(X, y)\n",
    "        \n",
    "        self.X_train, self.X_test, self.y_train, self.y_test = train_test_split(X, y, test_size = 0.2, random_state = 0)\n",
    "        \n",
    "    def train_tree(self):\n",
    "        # depth 35 é o melhor\n",
    "#         params = {'max_depth': [15,20,30,35,40]}\n",
    "\n",
    "#         gcv = GridSearchCV(estimator=self.local_tree,param_grid=params)\n",
    "#         gcv.fit(self.X_train, self.y_train)\n",
    "#         self.local_tree = gcv.best_estimator_\n",
    "\n",
    "        self.local_tree.fit(self.X_train, self.y_train)\n",
    "        \n",
    "    def test_tree(self):\n",
    "        y_pred = self.local_tree.predict(self.X_test)\n",
    "        \n",
    "#         precision = Precision()\n",
    "#         precision.update_state(self.y_test, y_pred)\n",
    "#         prec = precision.result().numpy()\n",
    "        \n",
    "#         recall = Recall()\n",
    "#         recall.update_state(self.y_test, y_pred)\n",
    "#         rec = recall.result().numpy()\n",
    "        \n",
    "        self.local_score = self.local_tree.score(self.X_test, self.y_test)\n",
    "        print(f\"[INFO] Accuracy of client {self.client_id} = {self.local_score}\")\n",
    "        \n",
    "        self.metrics_history.append((acc, 0.0, 0.0))\n",
    "#         cm = confusion_matrix(self.y_test, y_pred)\n",
    "#         print(cm)  "
   ]
  },
  {
   "cell_type": "markdown",
   "id": "built-atmosphere",
   "metadata": {},
   "source": [
    "## Splitando dataset para os clientes da rede"
   ]
  },
  {
   "cell_type": "code",
   "execution_count": 101,
   "id": "eleven-jones",
   "metadata": {},
   "outputs": [],
   "source": [
    "num_clients = 20\n",
    "max_num_trees = 10\n",
    "clients = [Client(client_id = i) for i in range(num_clients)]\n",
    "\n",
    "# pega os N primeiros clientes com mais dados e que possuem dataset com > 1 classe\n",
    "unique_ips = initial_dataset['srcip'].value_counts().head(num_clients + 10).keys()\n",
    "client_index, i = (0,0)\n",
    "while client_index < num_clients:\n",
    "    local_dataset = initial_dataset.loc[initial_dataset['srcip'] == unique_ips[i]]\n",
    "    num_classes = len(local_dataset['class'].value_counts())\n",
    "    if num_classes > 1:\n",
    "        clients[client_index].local_dataset = local_dataset\n",
    "        client_index += 1\n",
    "    i += 1\n",
    "        "
   ]
  },
  {
   "cell_type": "markdown",
   "id": "offensive-breach",
   "metadata": {},
   "source": [
    "## Treinando e testando modelos DT locais"
   ]
  },
  {
   "cell_type": "code",
   "execution_count": 102,
   "id": "adaptive-shepherd",
   "metadata": {},
   "outputs": [
    {
     "name": "stdout",
     "output_type": "stream",
     "text": [
      "[INFO] Accuracy of client 0 = 0.9356502850936737\n",
      "[INFO] Accuracy of client 1 = 0.8437007063987381\n",
      "[INFO] Accuracy of client 2 = 0.9997739431843871\n",
      "[INFO] Accuracy of client 3 = 0.8649109511178477\n",
      "[INFO] Accuracy of client 4 = 0.8667617689015692\n",
      "[INFO] Accuracy of client 5 = 0.7890216078378741\n",
      "[INFO] Accuracy of client 6 = 0.9312517118597644\n",
      "[INFO] Accuracy of client 7 = 0.9991031390134529\n",
      "[INFO] Accuracy of client 8 = 0.819626168224299\n",
      "[INFO] Accuracy of client 9 = 0.999656652360515\n",
      "[INFO] Accuracy of client 10 = 0.9996395746981438\n",
      "[INFO] Accuracy of client 11 = 0.9993734335839599\n",
      "[INFO] Accuracy of client 12 = 0.9995279679018173\n",
      "[INFO] Accuracy of client 13 = 1.0\n",
      "[INFO] Accuracy of client 14 = 0.9997095556200988\n",
      "[INFO] Accuracy of client 15 = 1.0\n",
      "[INFO] Accuracy of client 16 = 1.0\n",
      "[INFO] Accuracy of client 17 = 1.0\n",
      "[INFO] Accuracy of client 18 = 0.999349593495935\n",
      "[INFO] Accuracy of client 19 = 0.9830120875530872\n",
      "[INFO] All local trains are finished!\n"
     ]
    }
   ],
   "source": [
    "for client in clients:\n",
    "    client.preprocess()\n",
    "    client.train_tree()\n",
    "    client.test_tree()\n",
    "\n",
    "print(\"[INFO] All local trains are finished!\")"
   ]
  },
  {
   "cell_type": "markdown",
   "id": "cleared-architect",
   "metadata": {},
   "source": [
    "## Compartilhando DTs e atualizando FedForest"
   ]
  },
  {
   "cell_type": "code",
   "execution_count": 103,
   "id": "native-audio",
   "metadata": {},
   "outputs": [
    {
     "name": "stdout",
     "output_type": "stream",
     "text": [
      "Client 0 appended 9 and replaced 9 trees to forest\n",
      "[0.8766766223187619, 0.8766766223187619, 0.8766766223187619, 0.876350800977464, 0.87645940809123, 0.8747759978278578, 0.8766766223187619, 0.876296497420581, 0.8724952484387727]\n",
      "\n",
      "Client 1 appended 9 and replaced 8 trees to forest\n",
      "[0.5431726219052191, 0.49118716137439133, 0.49118716137439133, 0.49118716137439133, 0.49118716137439133, 0.4911185789726356, 0.4907070845621014, 0.4970166655236266, 0.4908442493656128]\n",
      "\n",
      "Client 2 appended 9 and replaced 9 trees to forest\n",
      "[0.9961570341345791, 0.9907316705598673, 0.998945068193806, 0.9993218295531611, 0.99924647728129, 0.9993218295531611, 0.9928415341722553, 0.9969859091251602, 0.9944239318815462]\n",
      "\n",
      "Client 3 appended 9 and replaced 5 trees to forest\n",
      "[0.40015157256536565, 0.6190791966654036, 0.3956991284577491, 0.526335733232285, 0.3956043956043956, 0.5326828344069723, 0.3956991284577491, 0.5673550587343691, 0.3956991284577491]\n",
      "\n",
      "Client 4 appended 9 and replaced 8 trees to forest\n",
      "[0.7170708511650024, 0.7160247265810746, 0.7115549215406562, 0.7170708511650024, 0.7167855444602949, 0.7170708511650024, 0.7152639087018545, 0.7156443176414645, 0.7138373751783167]\n",
      "\n",
      "Client 5 appended 9 and replaced 7 trees to forest\n",
      "[0.342772782176889, 0.3365991142128573, 0.3339149107502349, 0.342772782176889, 0.34223594148436454, 0.3288149241712522, 0.34250436183062677, 0.3324385988457925, 0.33552543282780833]\n",
      "\n",
      "Client 6 appended 9 and replaced 9 trees to forest\n",
      "[0.8323746918652424, 0.8323746918652424, 0.8310052040536839, 0.8323746918652424, 0.8322377430840866, 0.8323746918652424, 0.8323746918652424, 0.8267597918378526, 0.8260750479320734]\n",
      "\n",
      "Client 7 appended 9 and replaced 8 trees to forest\n",
      "[0.9696562032884903, 0.9581464872944694, 0.9698056801195815, 0.9910313901345291, 0.9904334828101644, 0.9913303437967115, 0.9849028400597908, 0.9913303437967115, 0.9811659192825112]\n",
      "\n",
      "Client 8 appended 9 and replaced 9 trees to forest\n",
      "[0.6866043613707166, 0.6783489096573209, 0.6864485981308411, 0.6831775700934579, 0.6847352024922119, 0.6866043613707166, 0.6862928348909657, 0.6866043613707166, 0.679595015576324]\n",
      "\n",
      "Client 9 appended 9 and replaced 6 trees to forest\n",
      "[0.9507296137339056, 0.9953648068669528, 0.9936480686695279, 0.9960515021459228, 0.9934763948497854, 0.9960515021459228, 0.9830042918454935, 0.9939914163090129, 0.9618884120171673]\n",
      "\n",
      "Client 10 appended 9 and replaced 9 trees to forest\n",
      "[0.9990989367453595, 0.9884663903406019, 0.9985582987925753, 0.9985582987925753, 0.9893674535952424, 0.9992791493962876, 0.9990989367453595, 0.9990989367453595, 0.9992791493962876]\n",
      "\n",
      "Client 11 appended 9 and replaced 8 trees to forest\n",
      "[0.9680451127819549, 0.9997911445279867, 0.9887218045112782, 0.9730576441102757, 0.9995822890559732, 0.9665831244778613, 0.9692982456140351, 0.9997911445279867, 0.9997911445279867]\n",
      "\n",
      "Client 12 appended 9 and replaced 7 trees to forest\n",
      "[0.9605853198017466, 0.953268822279915, 0.9728581543544961, 0.9789945716308709, 0.9615293839981118, 0.980410667925419, 0.981826764219967, 0.965777672881756, 0.981826764219967]\n",
      "\n",
      "Client 13 appended 9 and replaced 8 trees to forest\n",
      "[0.9936781609195402, 0.9913793103448276, 0.9879310344827587, 0.9589080459770115, 0.9896551724137931, 0.9660919540229885, 0.9939655172413793, 0.992816091954023, 0.9939655172413793]\n",
      "\n",
      "Client 14 appended 9 and replaced 8 trees to forest\n",
      "[0.9982573337205926, 0.9985477781004938, 0.994191112401975, 0.9997095556200988, 0.9898344467034563, 0.9535288992158002, 0.9764740052279989, 0.9985477781004938, 0.9857682253848388]\n",
      "\n",
      "Client 15 appended 9 and replaced 7 trees to forest\n",
      "[0.9784406379208506, 0.9970466627288836, 0.9940933254577673, 0.9949793266391022, 0.9970466627288836, 0.9893679858239811, 0.9940933254577673, 0.9949793266391022, 0.9970466627288836]\n",
      "\n",
      "Client 16 appended 9 and replaced 8 trees to forest\n",
      "[0.9775112443778111, 0.9778110944527736, 0.976311844077961, 0.9787106446776612, 0.9658170914542729, 0.9778110944527736, 0.9514242878560719, 0.9787106446776612, 0.9712143928035982]\n",
      "\n",
      "Client 17 appended 9 and replaced 6 trees to forest\n",
      "[0.9936061381074168, 0.9731457800511509, 0.9868925831202046, 0.9916879795396419, 0.9974424552429667, 0.9974424552429667, 0.993925831202046, 0.9974424552429667, 0.9974424552429667]\n",
      "\n",
      "Client 18 appended 9 and replaced 9 trees to forest\n",
      "[0.9973983739837399, 0.9905691056910569, 0.9977235772357723, 0.9983739837398374, 0.9921951219512195, 0.9983739837398374, 0.9726829268292683, 0.9983739837398374, 0.9983739837398374]\n",
      "\n",
      "Client 19 appended 9 and replaced 8 trees to forest\n",
      "[0.8163998693237504, 0.8281607317869977, 0.7677229663508657, 0.8242404442992486, 0.8281607317869977, 0.8248938255472068, 0.7814439725579876, 0.8281607317869977, 0.8281607317869977]\n",
      "\n"
     ]
    }
   ],
   "source": [
    "for current in range(num_clients):\n",
    "    appended_trees, replaced_trees, acc_list = (0,0,[])\n",
    "    for neighbour in range(num_clients):\n",
    "        if current != neighbour:\n",
    "            neighbour_tree = clients[neighbour].local_tree\n",
    "            acc = neighbour_tree.score(clients[current].X_test, clients[current].y_test)\n",
    "            \n",
    "            if len(clients[current].local_forest) < max_num_trees:\n",
    "                clients[current].local_forest.append(neighbour_tree)\n",
    "                acc_list.append(acc)\n",
    "                appended_trees += 1\n",
    "            else:\n",
    "                min_acc = min(acc_list)\n",
    "                min_index = acc_list.index(min_acc) # seleciona a árvore de menor acurácia\n",
    "                if min_acc < acc:\n",
    "                    clients[current].local_forest[min_index] = neighbour_tree # substitui a árvore pela nova\n",
    "                    acc_list[min_index] = acc\n",
    "                    replaced_trees += 1\n",
    "    print(f\"Client {current} appended {appended_trees} and replaced {replaced_trees} trees to forest\")\n",
    "    print(f\"{acc_list}\\n\")\n",
    "                "
   ]
  },
  {
   "cell_type": "markdown",
   "id": "ready-energy",
   "metadata": {},
   "source": [
    "## Testando a RF dos clientes"
   ]
  },
  {
   "cell_type": "code",
   "execution_count": 104,
   "id": "exotic-kitchen",
   "metadata": {},
   "outputs": [
    {
     "name": "stdout",
     "output_type": "stream",
     "text": [
      "Accuracy for client 0 forest = 0.876676619052887\n",
      "Accuracy for client 1 forest = 0.4911871552467346\n",
      "Accuracy for client 2 forest = 0.9993218183517456\n",
      "Accuracy for client 3 forest = 0.3956991136074066\n",
      "Accuracy for client 4 forest = 0.7170708775520325\n",
      "Accuracy for client 5 forest = 0.34277278184890747\n",
      "Accuracy for client 6 forest = 0.8323746919631958\n",
      "Accuracy for client 7 forest = 0.9913303256034851\n",
      "Accuracy for client 8 forest = 0.686604380607605\n",
      "Accuracy for client 9 forest = 0.9960514903068542\n",
      "Accuracy for client 10 forest = 0.9992791414260864\n",
      "Accuracy for client 11 forest = 0.999791145324707\n",
      "Accuracy for client 12 forest = 0.9818267822265625\n",
      "Accuracy for client 13 forest = 0.9939655065536499\n",
      "Accuracy for client 14 forest = 0.9997095465660095\n",
      "Accuracy for client 15 forest = 0.9970466494560242\n",
      "Accuracy for client 16 forest = 0.9787106513977051\n",
      "Accuracy for client 17 forest = 0.9974424839019775\n",
      "Accuracy for client 18 forest = 0.9983739852905273\n",
      "Accuracy for client 19 forest = 0.8281607031822205\n"
     ]
    }
   ],
   "source": [
    "import statistics\n",
    "from joblib import Parallel, delayed\n",
    "from statistics import mode\n",
    "\n",
    "def forest_predict(forest, X):\n",
    "    forest_prediction = list()\n",
    "    for row in X:\n",
    "        tree_predictions = list()\n",
    "        for tree in forest:\n",
    "            tree_predictions.append(tree.predict([row])[0])\n",
    "        forest_prediction.append(mode(tree_predictions))\n",
    "    return forest_prediction\n",
    "\n",
    "for client in clients:\n",
    "    accuracy = Accuracy()\n",
    "    forest_pred = forest_predict(client.local_forest, client.X_test)\n",
    "    accuracy.update_state(client.y_test, forest_pred)\n",
    "    acc = accuracy.result().numpy()\n",
    "    \n",
    "    print(f\"Accuracy for client {client.client_id} forest = {acc}\")"
   ]
  },
  {
   "cell_type": "markdown",
   "id": "convinced-description",
   "metadata": {},
   "source": [
    "## Plotando resultados dos treinos locais"
   ]
  },
  {
   "cell_type": "code",
   "execution_count": 106,
   "id": "turkish-education",
   "metadata": {},
   "outputs": [
    {
     "data": {
      "image/png": "[encoded data removed]",
      "text/plain": [
       "<Figure size 432x288 with 1 Axes>"
      ]
     },
     "metadata": {
      "needs_background": "light"
     },
     "output_type": "display_data"
    }
   ],
   "source": [
    "final_metrics = []\n",
    "for client in clients:\n",
    "    final_metrics.append(client.local_score)\n",
    "\n",
    "plt.boxplot(final_metrics)\n",
    "plt.title('Final metrics result')\n",
    "plt.xticks([1], ['accuracy'])\n",
    "plt.show()"
   ]
  }
 ],
 "metadata": {
  "kernelspec": {
   "display_name": "Python 3.8.10 64-bit",
   "language": "python",
   "name": "python3"
  },
  "language_info": {
   "codemirror_mode": {
    "name": "ipython",
    "version": 3
   },
   "file_extension": ".py",
   "mimetype": "text/x-python",
   "name": "python",
   "nbconvert_exporter": "python",
   "pygments_lexer": "ipython3",
   "version": "3.8.10"
  },
  "vscode": {
   "interpreter": {
    "hash": "916dbcbb3f70747c44a77c7bcd40155683ae19c65e1c03b4aa3499c5328201f1"
   }
  }
 },
 "nbformat": 4,
 "nbformat_minor": 5
}
