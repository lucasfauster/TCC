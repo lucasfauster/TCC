{
 "cells": [
  {
   "cell_type": "markdown",
   "id": "indian-volume",
   "metadata": {},
   "source": [
    "## Importando dependências"
   ]
  },
  {
   "cell_type": "code",
   "execution_count": 1,
   "id": "aggregate-sperm",
   "metadata": {},
   "outputs": [],
   "source": [
    "# pip install tensorflow sklearn"
   ]
  },
  {
   "cell_type": "code",
   "execution_count": 2,
   "id": "brief-identification",
   "metadata": {},
   "outputs": [
    {
     "name": "stdout",
     "output_type": "stream",
     "text": [
      "INFO:tensorflow:Enabling eager execution\n",
      "INFO:tensorflow:Enabling v2 tensorshape\n",
      "INFO:tensorflow:Enabling resource variables\n",
      "INFO:tensorflow:Enabling tensor equality\n",
      "INFO:tensorflow:Enabling control flow v2\n"
     ]
    }
   ],
   "source": [
    "import numpy as np\n",
    "import sys\n",
    "import pandas as pd\n",
    "import tensorflow as tf\n",
    "import matplotlib.pyplot as plt\n",
    "from tensorflow.keras.metrics import Precision\n",
    "from tensorflow.keras.metrics import Recall\n",
    "from tensorflow.keras.metrics import Accuracy\n",
    "from tensorflow.keras.losses import Loss\n",
    "from sklearn.tree import DecisionTreeClassifier\n",
    "from sklearn.preprocessing import StandardScaler\n",
    "from sklearn.impute import SimpleImputer\n",
    "from sklearn.model_selection import train_test_split\n",
    "from sklearn.metrics import confusion_matrix\n",
    "from sklearn.utils import shuffle\n",
    "from sklearn.model_selection import GridSearchCV\n",
    "from imblearn.over_sampling import RandomOverSampler\n",
    "from imblearn.over_sampling import SMOTE"
   ]
  },
  {
   "cell_type": "markdown",
   "id": "friendly-copper",
   "metadata": {},
   "source": [
    "## Importando dataset e splitando em teste e treino"
   ]
  },
  {
   "cell_type": "code",
   "execution_count": 3,
   "id": "thrown-brazilian",
   "metadata": {},
   "outputs": [],
   "source": [
    "def normalize_dataset_labels(dataset):\n",
    "    y = dataset.iloc[:, -1].values\n",
    "    unique_labels = sorted(list(set(y)))\n",
    "    for i in range(len(y)):\n",
    "        y[i] = unique_labels.index(y[i])\n",
    "    dataset.iloc[:, -1] = y\n",
    "    \n",
    "def apply_feature_scaling(dataset):\n",
    "    X = dataset.iloc[:, 5:-1].values\n",
    "    sc = StandardScaler()\n",
    "    X = sc.fit_transform(X)\n",
    "    dataset.iloc[:, 5:-1] = X\n",
    "\n",
    "HEADER = [\"timestamp\",'srcip', 'srcport', 'dstip', 'dstport', 'proto', 'total_fpackets', 'total_fvolume',\n",
    "          'total_bpackets', 'total_bvolume', 'min_fpktl', 'mean_fpktl', 'max_fpktl', 'std_fpktl', 'min_bpktl',\n",
    "          'mean_bpktl', 'max_bpktl', 'std_bpktl', 'min_fiat', 'mean_fiat', 'max_fiat', 'std_fiat', 'min_biat',\n",
    "          'mean_biat', 'max_biat', 'std_biat', 'duration', 'min_active', 'mean_active', 'max_active', 'std_active',\n",
    "          'min_idle', 'mean_idle', 'max_idle', 'std_idle', 'sflow_fpackets', 'sflow_fbytes', 'sflow_bpackets',\n",
    "          'sflow_bbytes', 'fpsh_cnt', 'bpsh_cnt', 'furg_cnt', 'burg_cnt', 'total_fhlen', 'total_bhlen', \"dscp\", 'class']\n",
    "initial_dataset = pd.read_csv('dataset-oi-2017-02-24.csv', names=HEADER)\n",
    "\n",
    "apply_feature_scaling(initial_dataset)\n",
    "\n",
    "normalize_dataset_labels(initial_dataset)"
   ]
  },
  {
   "cell_type": "markdown",
   "id": "facial-expert",
   "metadata": {},
   "source": [
    "## Criando modelo do cliente"
   ]
  },
  {
   "cell_type": "code",
   "execution_count": 8,
   "id": "compatible-marketplace",
   "metadata": {},
   "outputs": [],
   "source": [
    "class Client:\n",
    "    def __init__(self, client_id = 123, dataset = [1.0, 2.0]):\n",
    "        self.client_id = client_id\n",
    "        self.local_dataset = pd.DataFrame(dataset)\n",
    "        self.local_tree = DecisionTreeClassifier(random_state=0, max_depth=35, criterion='entropy')\n",
    "        self.metrics_history = list()\n",
    "        self.local_forest = [self.local_tree]\n",
    "        \n",
    "    def apply_oversample(self, X, y):\n",
    "        value_counts = self.local_dataset.iloc[:, -1].value_counts()\n",
    "        smote_classes, random_classes, k = ({}, {}, sys.maxsize)\n",
    "        max_count = max(value_counts.values)\n",
    "        \n",
    "        for key, value in value_counts.items():\n",
    "            if value > 5:\n",
    "                smote_classes[key] = max_count\n",
    "                if k > value:\n",
    "                    k = value - 1\n",
    "            else:\n",
    "                random_classes[key] = max_count\n",
    "                    \n",
    "        smote_oversample = SMOTE(sampling_strategy = smote_classes, k_neighbors = k)\n",
    "        random_oversample = RandomOverSampler(sampling_strategy = random_classes)\n",
    "        X, y = smote_oversample.fit_resample(X, y)\n",
    "        return random_oversample.fit_resample(X, y)\n",
    "\n",
    "        \n",
    "    def preprocess(self):\n",
    "        X = self.local_dataset.iloc[:, 5:-1].values\n",
    "        y = self.local_dataset.iloc[:, -1].values\n",
    "        \n",
    "        X = np.array(X, dtype=np.float64)\n",
    "        y = np.array(y, dtype=np.float64)\n",
    "        \n",
    "#         sc = StandardScaler()\n",
    "#         X = sc.fit_transform(X)\n",
    "\n",
    "#         X, y = self.apply_oversample(X, y)\n",
    "        \n",
    "        self.X_train, self.X_test, self.y_train, self.y_test = train_test_split(X, y, test_size = 0.2, random_state = 0)\n",
    "        \n",
    "    def train_tree(self):\n",
    "        # depth 35 é o melhor aplicando grid seach\n",
    "        self.local_tree.fit(self.X_train, self.y_train)\n",
    "        \n",
    "    def test_tree(self):\n",
    "        y_pred = self.local_tree.predict(self.X_test)\n",
    "        \n",
    "#         precision = Precision()\n",
    "#         precision.update_state(self.y_test, y_pred)\n",
    "#         prec = precision.result().numpy()\n",
    "        \n",
    "#         recall = Recall()\n",
    "#         recall.update_state(self.y_test, y_pred)\n",
    "#         rec = recall.result().numpy()\n",
    "        \n",
    "        self.local_tree_acc = self.local_tree.score(self.X_test, self.y_test)\n",
    "        print(f\"[INFO] Accuracy of client {self.client_id} tree = {self.local_tree_acc}\")\n",
    "        \n",
    "        self.metrics_history.append((self.local_tree_acc, 0.0, 0.0))\n",
    "#         cm = confusion_matrix(self.y_test, y_pred)\n",
    "#         print(cm)  "
   ]
  },
  {
   "cell_type": "markdown",
   "id": "built-atmosphere",
   "metadata": {},
   "source": [
    "## Splitando dataset para os clientes da rede"
   ]
  },
  {
   "cell_type": "code",
   "execution_count": 9,
   "id": "eleven-jones",
   "metadata": {},
   "outputs": [],
   "source": [
    "num_clients = 20\n",
    "max_num_trees = 10\n",
    "clients = [Client(client_id = i) for i in range(num_clients)]\n",
    "\n",
    "# pega os N primeiros clientes com mais dados e que possuem dataset com > 1 classe\n",
    "unique_ips = initial_dataset['srcip'].value_counts().head(num_clients + 10).keys()\n",
    "client_index, i = (0,0)\n",
    "while client_index < num_clients:\n",
    "    local_dataset = initial_dataset.loc[initial_dataset['srcip'] == unique_ips[i]]\n",
    "    num_classes = len(local_dataset['class'].value_counts())\n",
    "    if num_classes > 1:\n",
    "        clients[client_index].local_dataset = local_dataset\n",
    "        client_index += 1\n",
    "    i += 1\n",
    "        "
   ]
  },
  {
   "cell_type": "markdown",
   "id": "offensive-breach",
   "metadata": {},
   "source": [
    "## Treinando e testando modelos DT locais"
   ]
  },
  {
   "cell_type": "code",
   "execution_count": 10,
   "id": "adaptive-shepherd",
   "metadata": {},
   "outputs": [
    {
     "name": "stdout",
     "output_type": "stream",
     "text": [
      "[INFO] Accuracy of client 0 tree = 0.9357045886505566\n",
      "[INFO] Accuracy of client 1 tree = 0.8439064536040052\n",
      "[INFO] Accuracy of client 2 tree = 0.9997739431843871\n",
      "[INFO] Accuracy of client 3 tree = 0.8646267525577871\n",
      "[INFO] Accuracy of client 4 tree = 0.8665715644317642\n",
      "[INFO] Accuracy of client 5 tree = 0.7884847671453497\n",
      "[INFO] Accuracy of client 6 tree = 0.9312517118597644\n",
      "[INFO] Accuracy of client 7 tree = 0.9991031390134529\n",
      "[INFO] Accuracy of client 8 tree = 0.8194704049844237\n",
      "[INFO] Accuracy of client 9 tree = 0.999656652360515\n",
      "[INFO] Accuracy of client 10 tree = 0.9996395746981438\n",
      "[INFO] Accuracy of client 11 tree = 0.9993734335839599\n",
      "[INFO] Accuracy of client 12 tree = 0.9995279679018173\n",
      "[INFO] Accuracy of client 13 tree = 1.0\n",
      "[INFO] Accuracy of client 14 tree = 0.9997095556200988\n",
      "[INFO] Accuracy of client 15 tree = 1.0\n",
      "[INFO] Accuracy of client 16 tree = 1.0\n",
      "[INFO] Accuracy of client 17 tree = 1.0\n",
      "[INFO] Accuracy of client 18 tree = 0.999349593495935\n",
      "[INFO] Accuracy of client 19 tree = 0.9836654688010454\n",
      "[INFO] All local trains are finished!\n"
     ]
    }
   ],
   "source": [
    "for client in clients:\n",
    "    client.preprocess()\n",
    "    client.train_tree()\n",
    "    client.test_tree()\n",
    "\n",
    "print(\"[INFO] All local trains are finished!\")"
   ]
  },
  {
   "cell_type": "markdown",
   "id": "cleared-architect",
   "metadata": {},
   "source": [
    "## Compartilhando DTs e atualizando FedForest"
   ]
  },
  {
   "cell_type": "code",
   "execution_count": 11,
   "id": "native-audio",
   "metadata": {},
   "outputs": [
    {
     "name": "stdout",
     "output_type": "stream",
     "text": [
      "Client 0 appended 9 and replaced 8 trees to forest\n",
      "[0.8747759978278578, 0.8738528373608472, 0.8692913385826772, 0.8766766223187619, 0.8699429812652729, 0.8691284279120283, 0.8736356231333152, 0.8610915014933478, 0.8760249796361662]\n",
      "\n",
      "Client 1 appended 9 and replaced 3 trees to forest\n",
      "[0.5579178382826967, 0.4893354365269872, 0.6974144434538098, 0.5966668952746725, 0.49118716137439133, 0.6723818668129757, 0.48988409574103287, 0.6830121390851107, 0.4909814141691242]\n",
      "\n",
      "Client 2 appended 9 and replaced 8 trees to forest\n",
      "[0.9985683068344511, 0.997890136387612, 0.998794363650064, 0.9974380227563862, 0.9959309773189662, 0.9972873182126442, 0.9969105568532891, 0.9993218295531611, 0.998040840931354]\n",
      "\n",
      "Client 3 appended 9 and replaced 4 trees to forest\n",
      "[0.46068586585827964, 0.6981811292156119, 0.393236074270557, 0.5526714664645699, 0.3956991284577491, 0.6867184539598332, 0.39352027283061763, 0.6707086017430846, 0.3954149298976885]\n",
      "\n",
      "Client 4 appended 9 and replaced 7 trees to forest\n",
      "[0.7141226818830243, 0.7148834997622444, 0.7170708511650024, 0.7164051355206847, 0.7042320494531622, 0.7289586305278174, 0.7069900142653353, 0.7455064194008559, 0.7074655254398479]\n",
      "\n",
      "Client 5 appended 9 and replaced 7 trees to forest\n",
      "[0.34008857871426657, 0.342772782176889, 0.34169910079184, 0.34062541940679103, 0.33955173802174204, 0.3404912092336599, 0.34156489061870887, 0.34169910079184, 0.34223594148436454]\n",
      "\n",
      "Client 6 appended 9 and replaced 7 trees to forest\n",
      "[0.8323746918652424, 0.8307313064913723, 0.8259380991509175, 0.8311421528348397, 0.833607230895645, 0.8259380991509175, 0.8281292796494111, 0.8523692139139961, 0.830046562585593]\n",
      "\n",
      "Client 7 appended 9 and replaced 9 trees to forest\n",
      "[0.9898355754857997, 0.9883408071748879, 0.9905829596412556, 0.9910313901345291, 0.9850523168908819, 0.9872944693572496, 0.9907324364723468, 0.9901345291479821, 0.9913303437967115]\n",
      "\n",
      "Client 8 appended 9 and replaced 6 trees to forest\n",
      "[0.6848909657320872, 0.7126168224299065, 0.6822429906542056, 0.6838006230529595, 0.7431464174454828, 0.6866043613707166, 0.7615264797507788, 0.6853582554517134, 0.6861370716510904]\n",
      "\n",
      "Client 9 appended 9 and replaced 7 trees to forest\n",
      "[0.9939914163090129, 0.9929613733905579, 0.9934763948497854, 0.9934763948497854, 0.9953648068669528, 0.9905579399141631, 0.9898712446351932, 0.9936480686695279, 0.9960515021459228]\n",
      "\n",
      "Client 10 appended 9 and replaced 7 trees to forest\n",
      "[0.9992791493962876, 0.9969363849342224, 0.9987385114435033, 0.9985582987925753, 0.9953144710758696, 0.9987385114435033, 0.9994593620472157, 0.9945936204721572, 0.9985582987925753]\n",
      "\n",
      "Client 11 appended 9 and replaced 9 trees to forest\n",
      "[0.9985380116959064, 0.997702589807853, 0.997702589807853, 0.9997911445279867, 0.9945697577276524, 0.9951963241436925, 0.9974937343358395, 0.9928989139515455, 0.9968671679197995]\n",
      "\n",
      "Client 12 appended 9 and replaced 9 trees to forest\n",
      "[0.981826764219967, 0.980410667925419, 0.9938635827236252, 0.9773424592872315, 0.9780505074345055, 0.9794666037290536, 0.980410667925419, 0.9966957753127212, 0.9763983950908662]\n",
      "\n",
      "Client 13 appended 9 and replaced 8 trees to forest\n",
      "[0.9939655172413793, 0.992816091954023, 0.9936781609195402, 0.9939655172413793, 0.993103448275862, 0.992816091954023, 0.993103448275862, 0.9933908045977011, 0.9936781609195402]\n",
      "\n",
      "Client 14 appended 9 and replaced 8 trees to forest\n",
      "[0.9985477781004938, 0.9979668893406912, 0.9985477781004938, 0.9982573337205926, 0.9970955562009876, 0.99535288992158, 0.9947720011617776, 0.99767644496079, 0.9950624455416788]\n",
      "\n",
      "Client 15 appended 9 and replaced 8 trees to forest\n",
      "[0.9881866509155346, 0.9961606615475487, 0.9994093325457767, 0.9970466627288836, 0.9890726520968695, 0.9952746603662138, 0.9937979917306556, 0.9982279976373302, 0.9955699940933255]\n",
      "\n",
      "Client 16 appended 9 and replaced 9 trees to forest\n",
      "[0.9754122938530735, 0.9775112443778111, 0.9823088455772114, 0.9883058470764617, 0.9769115442278861, 0.9823088455772114, 0.9784107946026986, 0.9787106446776612, 0.9754122938530735]\n",
      "\n",
      "Client 17 appended 9 and replaced 8 trees to forest\n",
      "[0.9974424552429667, 0.9964833759590793, 0.995843989769821, 0.9961636828644501, 0.9971227621483376, 0.995843989769821, 0.993925831202046, 0.9916879795396419, 0.9971227621483376]\n",
      "\n",
      "Client 18 appended 9 and replaced 7 trees to forest\n",
      "[0.9960975609756098, 0.9980487804878049, 0.9990243902439024, 0.9980487804878049, 0.9957723577235772, 0.9967479674796748, 0.9983739837398374, 0.9980487804878049, 0.9977235772357723]\n",
      "\n",
      "Client 19 appended 9 and replaced 8 trees to forest\n",
      "[0.8281607317869977, 0.8226069911793531, 0.8209735380594577, 0.8797778503756942, 0.8203201568114995, 0.8209735380594577, 0.8137863443319177, 0.8180333224436459, 0.8239137536752695]\n",
      "\n"
     ]
    }
   ],
   "source": [
    "for current in range(num_clients):\n",
    "    appended_trees, replaced_trees, acc_list = (0,0,[])\n",
    "    for neighbour in range(num_clients):\n",
    "        if current != neighbour:\n",
    "            neighbour_tree = clients[neighbour].local_tree\n",
    "            acc = neighbour_tree.score(clients[current].X_test, clients[current].y_test)\n",
    "            \n",
    "            if len(clients[current].local_forest) < max_num_trees:\n",
    "                clients[current].local_forest.append(neighbour_tree)\n",
    "                acc_list.append(acc)\n",
    "                appended_trees += 1\n",
    "            else:\n",
    "                min_acc = min(acc_list)\n",
    "                min_index = acc_list.index(min_acc) # seleciona a árvore de menor acurácia\n",
    "                if min_acc < acc:\n",
    "                    clients[current].local_forest[min_index] = neighbour_tree # substitui a árvore pela nova\n",
    "                    acc_list[min_index] = acc\n",
    "                    replaced_trees += 1\n",
    "    print(f\"Client {current} appended {appended_trees} and replaced {replaced_trees} trees to forest\")\n",
    "    print(f\"{acc_list}\\n\")\n",
    "                "
   ]
  },
  {
   "cell_type": "markdown",
   "id": "ready-energy",
   "metadata": {},
   "source": [
    "## Testando a RF dos clientes"
   ]
  },
  {
   "cell_type": "code",
   "execution_count": 12,
   "id": "exotic-kitchen",
   "metadata": {},
   "outputs": [
    {
     "name": "stdout",
     "output_type": "stream",
     "text": [
      "[INFO] Accuracy of client 0 forest = 0.876676619052887\n",
      "[INFO] Accuracy of client 1 forest = 0.4911871552467346\n",
      "[INFO] Accuracy of client 2 forest = 0.9993218183517456\n",
      "[INFO] Accuracy of client 3 forest = 0.3956991136074066\n",
      "[INFO] Accuracy of client 4 forest = 0.7170708775520325\n",
      "[INFO] Accuracy of client 5 forest = 0.34277278184890747\n",
      "[INFO] Accuracy of client 6 forest = 0.8323746919631958\n",
      "[INFO] Accuracy of client 7 forest = 0.9913303256034851\n",
      "[INFO] Accuracy of client 8 forest = 0.686604380607605\n",
      "[INFO] Accuracy of client 9 forest = 0.9960514903068542\n",
      "[INFO] Accuracy of client 10 forest = 0.9992791414260864\n",
      "[INFO] Accuracy of client 11 forest = 0.999791145324707\n",
      "[INFO] Accuracy of client 12 forest = 0.9818267822265625\n",
      "[INFO] Accuracy of client 13 forest = 0.9939655065536499\n",
      "[INFO] Accuracy of client 14 forest = 0.9997095465660095\n",
      "[INFO] Accuracy of client 15 forest = 0.9970466494560242\n",
      "[INFO] Accuracy of client 16 forest = 0.9787106513977051\n",
      "[INFO] Accuracy of client 17 forest = 0.9974424839019775\n",
      "[INFO] Accuracy of client 18 forest = 0.9983739852905273\n",
      "[INFO] Accuracy of client 19 forest = 0.8281607031822205\n"
     ]
    }
   ],
   "source": [
    "import statistics\n",
    "from joblib import Parallel, delayed\n",
    "from statistics import mode\n",
    "\n",
    "def forest_predict(forest, X):\n",
    "    forest_prediction = list()\n",
    "    for row in X:\n",
    "        tree_predictions = list()\n",
    "        for tree in forest:\n",
    "            tree_predictions.append(tree.predict([row])[0])\n",
    "        forest_prediction.append(mode(tree_predictions))\n",
    "    return forest_prediction\n",
    "\n",
    "for client in clients:\n",
    "    accuracy = Accuracy()\n",
    "    forest_pred = forest_predict(client.local_forest, client.X_test)\n",
    "    accuracy.update_state(client.y_test, forest_pred)\n",
    "    acc = accuracy.result().numpy()\n",
    "    client.local_forest_acc = acc\n",
    "    \n",
    "    print(f\"[INFO] Accuracy of client {client.client_id} forest = {acc}\")"
   ]
  },
  {
   "cell_type": "markdown",
   "id": "convinced-description",
   "metadata": {},
   "source": [
    "## Plotando resultados dos treinos locais"
   ]
  },
  {
   "cell_type": "code",
   "execution_count": 13,
   "id": "turkish-education",
   "metadata": {},
   "outputs": [
    {
     "data": {
      "image/png": "[encoded data removed]",
      "text/plain": [
       "<Figure size 432x288 with 1 Axes>"
      ]
     },
     "metadata": {
      "needs_background": "light"
     },
     "output_type": "display_data"
    }
   ],
   "source": [
    "final_metrics = [[], []]\n",
    "for client in clients:\n",
    "    final_metrics[0].append(client.local_tree_acc)\n",
    "    final_metrics[1].append(client.local_forest_acc)\n",
    "\n",
    "plt.boxplot(final_metrics)\n",
    "plt.title('Final metrics result')\n",
    "plt.xticks([1, 2], ['tree accuracy', 'forest accuracy'])\n",
    "plt.show()"
   ]
  }
 ],
 "metadata": {
  "kernelspec": {
   "display_name": "Python 3",
   "language": "python",
   "name": "python3"
  },
  "language_info": {
   "codemirror_mode": {
    "name": "ipython",
    "version": 3
   },
   "file_extension": ".py",
   "mimetype": "text/x-python",
   "name": "python",
   "nbconvert_exporter": "python",
   "pygments_lexer": "ipython3",
   "version": "3.9.2"
  }
 },
 "nbformat": 4,
 "nbformat_minor": 5
}
